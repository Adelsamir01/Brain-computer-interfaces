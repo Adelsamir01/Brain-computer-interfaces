{
 "cells": [
  {
   "cell_type": "markdown",
   "metadata": {},
   "source": [
    "# 12-Class SSVEP EEG Dataset - Classification Using Convolutional Neural Network\n",
    "User-Dependent Training using Magnitude Spectrum Features and Complex Spectrum Features\n",
    "(10-Fold Cross-validation)\n",
    "\n",
    "Following implementation is an asynchronous SSVEP BCI using Convolutional Neural Network classification for 1 second data length.\n",
    "\n",
    "Reference Paper: [Comparing user-dependent and user-independent training of CNN for SSVEP BCI](https://iopscience.iop.org/article/10.1088/1741-2552/ab6a67)\n"
   ]
  },
  {
   "cell_type": "code",
   "execution_count": null,
   "metadata": {},
   "outputs": [],
   "source": [
    "import sys\n",
    "import os\n",
    "sys.path.insert(0, os.path.abspath('..'))"
   ]
  },
  {
   "cell_type": "code",
   "execution_count": 1,
   "metadata": {},
   "outputs": [],
   "source": [
    "%%capture\n",
    "import warnings\n",
    "import numpy as np\n",
    "import pandas as pd\n",
    "import matplotlib.pyplot as plt\n",
    "import scipy.io as sio\n",
    "from sklearn.model_selection import KFold\n",
    "\n",
    "from keras.utils.np_utils import to_categorical\n",
    "from keras import optimizers\n",
    "from keras.losses import categorical_crossentropy\n",
    "\n",
    "from scripts import ssvep_utils as su\n",
    "warnings.filterwarnings('ignore')"
   ]
  },
  {
   "cell_type": "code",
   "execution_count": 2,
   "metadata": {},
   "outputs": [],
   "source": [
    "def get_training_data(features_data):\n",
    "    features_data = np.reshape(features_data, (features_data.shape[0], features_data.shape[1], \n",
    "                                               features_data.shape[2], \n",
    "                                               features_data.shape[3]*features_data.shape[4]))\n",
    "    train_data = features_data[:, :, 0, :].T\n",
    "    for target in range(1, features_data.shape[2]):\n",
    "        train_data = np.vstack([train_data, np.squeeze(features_data[:, :, target, :]).T])\n",
    "\n",
    "    train_data = np.reshape(train_data, (train_data.shape[0], train_data.shape[1], \n",
    "                                         train_data.shape[2], 1))\n",
    "    total_epochs_per_class = features_data.shape[3]\n",
    "    features_data = []\n",
    "    class_labels = np.arange(CNN_PARAMS['num_classes'])\n",
    "    labels = (np.matlib.repmat(class_labels, total_epochs_per_class, 1).T).ravel()\n",
    "    labels = to_categorical(labels)\n",
    "    \n",
    "    return train_data, labels"
   ]
  },
  {
   "cell_type": "code",
   "execution_count": 3,
   "metadata": {},
   "outputs": [],
   "source": [
    "def train_CNN_cross_val_predict(train_data, labels, num_folds=10):\n",
    "    kf = KFold(n_splits=num_folds, shuffle=True)\n",
    "    kf.get_n_splits(train_data)\n",
    "    cv_acc = np.zeros((num_folds, 1))\n",
    "    fold = -1\n",
    "\n",
    "    for train_index, test_index in kf.split(train_data):\n",
    "        x_tr, x_ts = train_data[train_index], train_data[test_index]\n",
    "        y_tr, y_ts = labels[train_index], labels[test_index]\n",
    "        input_shape = np.array([x_tr.shape[1], x_tr.shape[2], x_tr.shape[3]])\n",
    "        \n",
    "        fold = fold + 1\n",
    "        \n",
    "        model = su.CNN_model(input_shape, CNN_PARAMS)\n",
    "        \n",
    "        sgd = optimizers.SGD(lr=CNN_PARAMS['learning_rate'], decay=CNN_PARAMS['lr_decay'], \n",
    "                             momentum=CNN_PARAMS['momentum'], nesterov=False)\n",
    "        model.compile(loss=categorical_crossentropy, optimizer=sgd, metrics=[\"accuracy\"])\n",
    "        history = model.fit(x_tr, y_tr, batch_size=CNN_PARAMS['batch_size'], \n",
    "                            epochs=CNN_PARAMS['epochs'], verbose=0)\n",
    "\n",
    "        score = model.evaluate(x_ts, y_ts, verbose=0) \n",
    "        cv_acc[fold, :] = score[1]*100\n",
    "        print(f'cv{fold+1}:{score[1]*100:.2f}%', end=\" \")\n",
    "    \n",
    "    return cv_acc"
   ]
  },
  {
   "cell_type": "code",
   "execution_count": 4,
   "metadata": {},
   "outputs": [],
   "source": [
    "data_path = os.path.abspath('../data')\n",
    "\n",
    "CNN_PARAMS = {\n",
    "    'batch_size': 64,\n",
    "    'epochs': 50,\n",
    "    'droprate': 0.25,\n",
    "    'learning_rate': 0.001,\n",
    "    'lr_decay': 0.0,\n",
    "    'l2_lambda': 0.0001,\n",
    "    'momentum': 0.9,\n",
    "    'kernel_f': 10,\n",
    "    'n_ch': 8,\n",
    "    'num_classes': 12}\n",
    "\n",
    "FFT_PARAMS = {\n",
    "    'resolution': 0.2930,\n",
    "    'start_frequency': 3.0,\n",
    "    'end_frequency': 35.0,\n",
    "    'sampling_rate': 256\n",
    "}\n",
    "\n",
    "window_len = 1\n",
    "shift_len = 1\n",
    "    \n",
    "all_acc = np.zeros((10, 1))\n",
    "\n",
    "magnitude_spectrum_features = dict()\n",
    "complex_spectrum_features = dict()"
   ]
  },
  {
   "cell_type": "code",
   "execution_count": 5,
   "metadata": {},
   "outputs": [],
   "source": [
    "mcnn_training_data = dict()\n",
    "ccnn_training_data = dict()"
   ]
  },
  {
   "cell_type": "code",
   "execution_count": 6,
   "metadata": {},
   "outputs": [],
   "source": [
    "mcnn_results = dict()\n",
    "ccnn_results = dict()"
   ]
  },
  {
   "cell_type": "markdown",
   "metadata": {},
   "source": [
    "# Load Dataset and Segment"
   ]
  },
  {
   "cell_type": "code",
   "execution_count": 7,
   "metadata": {},
   "outputs": [],
   "source": [
    "all_segmented_data = dict()\n",
    "for subject in range(0, 10):\n",
    "    dataset = sio.loadmat(f'{data_path}/s{subject+1}.mat')\n",
    "    eeg = np.array(dataset['eeg'], dtype='float32')\n",
    "    \n",
    "    CNN_PARAMS['num_classes'] = eeg.shape[0]\n",
    "    CNN_PARAMS['n_ch'] = eeg.shape[1]\n",
    "    total_trial_len = eeg.shape[2]\n",
    "    num_trials = eeg.shape[3]\n",
    "    sample_rate = 256\n",
    "\n",
    "    filtered_data = su.get_filtered_eeg(eeg, 6, 80, 4, sample_rate)\n",
    "    all_segmented_data[f's{subject+1}'] = su.get_segmented_epochs(filtered_data, window_len, \n",
    "                                                                  shift_len, sample_rate)"
   ]
  },
  {
   "cell_type": "markdown",
   "metadata": {},
   "source": [
    "# Feature Extraction"
   ]
  },
  {
   "cell_type": "code",
   "execution_count": 8,
   "metadata": {},
   "outputs": [],
   "source": [
    "for subject in all_segmented_data.keys():\n",
    "    magnitude_spectrum_features[subject] = su.magnitude_spectrum_features(all_segmented_data[subject], \n",
    "                                                                          FFT_PARAMS)\n",
    "    complex_spectrum_features[subject] = su.complex_spectrum_features(all_segmented_data[subject], \n",
    "                                                                      FFT_PARAMS)"
   ]
  },
  {
   "cell_type": "code",
   "execution_count": 9,
   "metadata": {},
   "outputs": [],
   "source": [
    "for subject in all_segmented_data.keys():\n",
    "    mcnn_training_data[subject] = dict()\n",
    "    ccnn_training_data[subject] = dict()\n",
    "    train_data, labels = get_training_data(magnitude_spectrum_features[subject])\n",
    "    mcnn_training_data[subject]['train_data'] = train_data\n",
    "    mcnn_training_data[subject]['label'] = labels\n",
    "    \n",
    "    train_data, labels = get_training_data(complex_spectrum_features[subject])\n",
    "    ccnn_training_data[subject]['train_data'] = train_data\n",
    "    ccnn_training_data[subject]['label'] = labels"
   ]
  },
  {
   "cell_type": "markdown",
   "metadata": {},
   "source": [
    "# M-CNN Training and Results"
   ]
  },
  {
   "cell_type": "code",
   "execution_count": 10,
   "metadata": {},
   "outputs": [
    {
     "name": "stdout",
     "output_type": "stream",
     "text": [
      "\n",
      "MCNN - Subject: s1\n",
      "cv1:72.22% cv2:54.17% cv3:61.11% cv4:66.67% cv5:58.33% cv6:59.72% cv7:69.44% cv8:77.78% cv9:62.50% cv10:62.50% \n",
      "Accuracy: 64.444444%\n",
      "\n",
      "MCNN - Subject: s2\n",
      "cv1:31.94% cv2:41.67% cv3:30.56% cv4:43.06% cv5:27.78% cv6:45.83% cv7:40.28% cv8:40.28% cv9:43.06% cv10:37.50% \n",
      "Accuracy: 38.194444%\n",
      "\n",
      "MCNN - Subject: s3\n",
      "cv1:90.28% cv2:75.00% cv3:79.17% cv4:81.94% cv5:81.94% cv6:87.50% cv7:86.11% cv8:86.11% cv9:80.56% cv10:81.94% \n",
      "Accuracy: 83.055556%\n",
      "\n",
      "MCNN - Subject: s4\n",
      "cv1:87.50% cv2:94.44% cv3:93.06% cv4:90.28% cv5:86.11% cv6:91.67% cv7:88.89% cv8:95.83% cv9:90.28% cv10:90.28% \n",
      "Accuracy: 90.833333%\n",
      "\n",
      "MCNN - Subject: s5\n",
      "cv1:93.06% cv2:91.67% cv3:95.83% cv4:93.06% cv5:95.83% cv6:98.61% cv7:93.06% cv8:98.61% cv9:94.44% cv10:97.22% \n",
      "Accuracy: 95.138889%\n",
      "\n",
      "MCNN - Subject: s6\n",
      "cv1:94.44% cv2:91.67% cv3:93.06% cv4:95.83% cv5:100.00% cv6:98.61% cv7:100.00% cv8:90.28% cv9:94.44% cv10:94.44% \n",
      "Accuracy: 95.277778%\n",
      "\n",
      "MCNN - Subject: s7\n",
      "cv1:93.06% cv2:91.67% cv3:87.50% cv4:87.50% cv5:90.28% cv6:93.06% cv7:88.89% cv8:90.28% cv9:95.83% cv10:86.11% \n",
      "Accuracy: 90.416667%\n",
      "\n",
      "MCNN - Subject: s8\n",
      "cv1:97.22% cv2:100.00% cv3:95.83% cv4:100.00% cv5:95.83% cv6:98.61% cv7:94.44% cv8:98.61% cv9:97.22% cv10:100.00% \n",
      "Accuracy: 97.777778%\n",
      "\n",
      "MCNN - Subject: s9\n",
      "cv1:88.89% cv2:93.06% cv3:88.89% cv4:91.67% cv5:97.22% cv6:88.89% cv7:87.50% cv8:88.89% cv9:76.39% cv10:86.11% \n",
      "Accuracy: 88.750000%\n",
      "\n",
      "MCNN - Subject: s10\n",
      "cv1:75.00% cv2:75.00% cv3:87.50% cv4:81.94% cv5:73.61% cv6:86.11% cv7:80.56% cv8:81.94% cv9:81.94% cv10:80.56% \n",
      "Accuracy: 80.416667%\n",
      "Overall Accuracy MCNN - 82.43%\n"
     ]
    }
   ],
   "source": [
    "for subject in mcnn_training_data.keys():\n",
    "    print(f'\\nMCNN - Subject: {subject}')\n",
    "    train_data = mcnn_training_data[subject]['train_data']\n",
    "    labels = mcnn_training_data[subject]['label']\n",
    "    \n",
    "    cv_acc = train_CNN_cross_val_predict(train_data, labels, 10)\n",
    "    mcnn_results[subject] = np.mean(cv_acc)\n",
    "    print(f'\\nAccuracy: {mcnn_results[subject]:2f}%')\n",
    "\n",
    "mcnn_overall_accuracy = np.mean(np.fromiter(mcnn_results.values(), dtype=float))    \n",
    "print(f'Overall Accuracy MCNN - {mcnn_overall_accuracy:.2f}%')"
   ]
  },
  {
   "cell_type": "markdown",
   "metadata": {},
   "source": [
    "# C-CNN Training and Results"
   ]
  },
  {
   "cell_type": "code",
   "execution_count": 12,
   "metadata": {},
   "outputs": [
    {
     "name": "stdout",
     "output_type": "stream",
     "text": [
      "\n",
      "CCNN - Subject: s1\n",
      "cv1:86.11% cv2:63.89% cv3:79.17% cv4:76.39% cv5:81.94% cv6:72.22% cv7:73.61% cv8:73.61% cv9:77.78% cv10:81.94% \n",
      "Accuracy: 76.67%\n",
      "\n",
      "CCNN - Subject: s2\n",
      "cv1:56.94% cv2:68.06% cv3:62.50% cv4:55.56% cv5:59.72% cv6:51.39% cv7:58.33% cv8:50.00% cv9:51.39% cv10:50.00% \n",
      "Accuracy: 56.39%\n",
      "\n",
      "CCNN - Subject: s3\n",
      "cv1:97.22% cv2:97.22% cv3:95.83% cv4:88.89% cv5:95.83% cv6:90.28% cv7:93.06% cv8:97.22% cv9:94.44% cv10:100.00% \n",
      "Accuracy: 95.00%\n",
      "\n",
      "CCNN - Subject: s4\n",
      "cv1:100.00% cv2:98.61% cv3:97.22% cv4:97.22% cv5:98.61% cv6:95.83% cv7:100.00% cv8:98.61% cv9:100.00% cv10:97.22% \n",
      "Accuracy: 98.33%\n",
      "\n",
      "CCNN - Subject: s5\n",
      "cv1:100.00% cv2:100.00% cv3:100.00% cv4:100.00% cv5:100.00% cv6:100.00% cv7:98.61% cv8:100.00% cv9:100.00% cv10:100.00% \n",
      "Accuracy: 99.86%\n",
      "\n",
      "CCNN - Subject: s6\n",
      "cv1:100.00% cv2:100.00% cv3:100.00% cv4:100.00% cv5:98.61% cv6:100.00% cv7:100.00% cv8:100.00% cv9:98.61% cv10:100.00% \n",
      "Accuracy: 99.72%\n",
      "\n",
      "CCNN - Subject: s7\n",
      "cv1:94.44% cv2:94.44% cv3:91.67% cv4:94.44% cv5:94.44% cv6:93.06% cv7:94.44% cv8:95.83% cv9:98.61% cv10:91.67% \n",
      "Accuracy: 94.31%\n",
      "\n",
      "CCNN - Subject: s8\n",
      "cv1:97.22% cv2:97.22% cv3:98.61% cv4:100.00% cv5:98.61% cv6:100.00% cv7:98.61% cv8:100.00% cv9:100.00% cv10:98.61% \n",
      "Accuracy: 98.89%\n",
      "\n",
      "CCNN - Subject: s9\n",
      "cv1:97.22% cv2:98.61% cv3:97.22% cv4:98.61% cv5:95.83% cv6:98.61% cv7:100.00% cv8:97.22% cv9:97.22% cv10:100.00% \n",
      "Accuracy: 98.06%\n",
      "\n",
      "CCNN - Subject: s10\n",
      "cv1:88.89% cv2:86.11% cv3:97.22% cv4:84.72% cv5:88.89% cv6:86.11% cv7:93.06% cv8:90.28% cv9:87.50% cv10:93.06% \n",
      "Accuracy: 89.58%\n",
      "Overall Accuracy CCNN - 90.68%\n"
     ]
    }
   ],
   "source": [
    "for subject in ccnn_training_data.keys():\n",
    "    print(f'\\nCCNN - Subject: {subject}')\n",
    "    train_data = ccnn_training_data[subject]['train_data']\n",
    "    labels = ccnn_training_data[subject]['label']\n",
    "    \n",
    "    cv_acc = train_CNN_cross_val_predict(train_data, labels, 10)\n",
    "    ccnn_results[subject] = np.mean(cv_acc)\n",
    "    print(f'\\nAccuracy: {ccnn_results[subject]:.2f}%')\n",
    "\n",
    "ccnn_overall_accuracy = np.mean(np.fromiter(ccnn_results.values(), dtype=float))    \n",
    "print(f'Overall Accuracy CCNN - {ccnn_overall_accuracy:.2f}%')"
   ]
  },
  {
   "cell_type": "markdown",
   "metadata": {},
   "source": [
    "# Summary"
   ]
  },
  {
   "cell_type": "code",
   "execution_count": 16,
   "metadata": {},
   "outputs": [],
   "source": [
    "results = pd.DataFrame({'mcnn': np.fromiter(mcnn_results.values(), dtype=float), \n",
    "              'ccnn': np.fromiter(ccnn_results.values(), dtype=float)})"
   ]
  },
  {
   "cell_type": "code",
   "execution_count": 45,
   "metadata": {},
   "outputs": [
    {
     "name": "stdout",
     "output_type": "stream",
     "text": [
      "        ccnn       mcnn\n",
      "0  76.666667  64.444444\n",
      "1  56.388889  38.194444\n",
      "2  95.000000  83.055556\n",
      "3  98.333333  90.833333\n",
      "4  99.861111  95.138889\n",
      "5  99.722222  95.277778\n",
      "6  94.305556  90.416667\n",
      "7  98.888889  97.777778\n",
      "8  98.055556  88.750000\n",
      "9  89.583333  80.416667\n"
     ]
    }
   ],
   "source": [
    "print(results)"
   ]
  },
  {
   "cell_type": "code",
   "execution_count": 44,
   "metadata": {},
   "outputs": [
    {
     "data": {
      "image/png": "[encoded data removed]",
      "text/plain": [
       "<matplotlib.figure.Figure at 0x20e9c568630>"
      ]
     },
     "metadata": {},
     "output_type": "display_data"
    }
   ],
   "source": [
    "results.boxplot(figsize=(12, 4), column=['mcnn', 'ccnn'])\n",
    "plt.ylabel('Accuracy')\n",
    "plt.show()"
   ]
  },
  {
   "cell_type": "code",
   "execution_count": 42,
   "metadata": {},
   "outputs": [
    {
     "data": {
      "image/png": "[encoded data removed]",
      "text/plain": [
       "<matplotlib.figure.Figure at 0x20e9c2536a0>"
      ]
     },
     "metadata": {},
     "output_type": "display_data"
    }
   ],
   "source": [
    "results.plot.bar(figsize=(12, 4), title='Comparing User-Dependent Training of MCNN and CCN')\n",
    "plt.xlabel('Subject')\n",
    "plt.ylabel('Accuracy')\n",
    "plt.show()"
   ]
  }
 ],
 "metadata": {
  "kernelspec": {
   "display_name": "Python 3",
   "language": "python",
   "name": "python3"
  },
  "language_info": {
   "codemirror_mode": {
    "name": "ipython",
    "version": 3
   },
   "file_extension": ".py",
   "mimetype": "text/x-python",
   "name": "python",
   "nbconvert_exporter": "python",
   "pygments_lexer": "ipython3",
   "version": "3.6.3"
  }
 },
 "nbformat": 4,
 "nbformat_minor": 2
}
